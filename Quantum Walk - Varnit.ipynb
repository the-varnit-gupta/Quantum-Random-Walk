{
 "cells": [
  {
   "cell_type": "markdown",
   "id": "9e8eb78b",
   "metadata": {},
   "source": [
    "# Quantum Walk"
   ]
  },
  {
   "cell_type": "markdown",
   "id": "8a37b64d",
   "metadata": {},
   "source": [
    "In this notebook, we will explore the idea of classical random walk and then focus on quantum walks, their relation with Markov chains, and their implementation."
   ]
  },
  {
   "cell_type": "markdown",
   "id": "7bcd2163",
   "metadata": {},
   "source": [
    "## 1. Markov Chains"
   ]
  },
  {
   "cell_type": "markdown",
   "id": "91b97e30",
   "metadata": {},
   "source": [
    "Markov chains are mathematical models that describe a sequence of events where the probability of transitioning from one state to another depends solely on the current state and not on the sequence of events that preceded it. In a Markov chain, the system is assumed to be in one of a finite number of states at any given time, and the transition probabilities between states are specified. Probabilities are often defined in a transition matrix that contains the probability of transition from one state to another. It is a process that evolves over time involving a certain degree of randomness or uncertainty."
   ]
  },
  {
   "cell_type": "markdown",
   "id": "6c36e840",
   "metadata": {},
   "source": [
    "## 2. Classical Random Walks"
   ]
  },
  {
   "cell_type": "markdown",
   "id": "92c4f5a1",
   "metadata": {},
   "source": [
    "A classical random walk is a mathematical model that describes the stochastic process of a particle moving through a sequence of discrete steps, where the direction of each step is determined randomly."
   ]
  },
  {
   "cell_type": "markdown",
   "id": "ce3a642b",
   "metadata": {},
   "source": [
    "#### Working algorithm:"
   ]
  },
  {
   "cell_type": "markdown",
   "id": "4b1ccc66",
   "metadata": {},
   "source": [
    "1. Initialize Parameters: Set the initial position of the particle and define stopping criterion.\n",
    "2. Perform Random Steps: At each time step, generate a random parameter and take the next step depending on that (for 1-D line, a coin flip is common practice)."
   ]
  },
  {
   "cell_type": "markdown",
   "id": "3c6c39f6",
   "metadata": {},
   "source": [
    "In a classical random walk, a walker moves from one location to another based on random decisions. In a quantum walk, the walker is described by a quantum state, and its evolution is governed by quantum mechanics. Unlike classical random walks, quantum walks can exhibit interference effects, leading to unique and non-classical behavior."
   ]
  },
  {
   "cell_type": "markdown",
   "id": "42252c93",
   "metadata": {},
   "source": [
    "The connection between quantum walks and Markov chains lies in their respective classical and quantum counterparts. Classical random walks can be seen as a special case of Markov chains, where the probabilities of transitioning between states are purely classical probabilities. Quantum walks extend this idea to the quantum realm, where the evolution is described by unitary transformations and quantum probabilities."
   ]
  },
  {
   "cell_type": "markdown",
   "id": "cef7dc48",
   "metadata": {},
   "source": [
    "## 3. Quantum Walk"
   ]
  },
  {
   "cell_type": "markdown",
   "id": "d2db6c7e",
   "metadata": {},
   "source": [
    "A quantum walk is a quantum mechanical analog of classical random walks or Markov chains. The evolution of the particle is governed by unitary operators, and instead of probabilistic outcomes, quantum probability amplitudes determine the likelihood of different paths. The unique ability of particles to exist in multiple states simultaneously, known as superposition, enables them to explore all potential paths concurrently. This expansive exploration continues until a measurement is performed. Quantum interference, a phenomenon arising from the combination of these states, selectively enhances or cancels out certain outcomes. By strategically designing quantum walk algorithms, undesired possibilities can be efficiently suppressed through interference, allowing correct paths to accumulate and yielding faster computation compared to classical counterparts."
   ]
  },
  {
   "cell_type": "markdown",
   "id": "b9d16918",
   "metadata": {},
   "source": [
    "#### Grover's Algorithm"
   ]
  },
  {
   "cell_type": "markdown",
   "id": "057f962d",
   "metadata": {},
   "source": [
    "Grover's Algorithm is designed to search an unsorted database or solve unstructured search problems quadratically faster than classical algorithms."
   ]
  },
  {
   "cell_type": "markdown",
   "id": "7730ba72",
   "metadata": {},
   "source": [
    "###### General idea of how Grover's algorithm"
   ]
  },
  {
   "cell_type": "markdown",
   "id": "597d85f6",
   "metadata": {},
   "source": [
    "1. State Initialization: Grover's algorithm initializes the quantum state with an amplitude amplification technique. This helps prepare the quantum state in a superposition that is more likely to lead to the desired outcome.\n",
    "2. Oracle Construction: Formation of an efficient quantum oracle for marking the target states in the quantum walk.\n",
    "3. Amplitude Amplification: Enhancing the probability of measuring the desired state during the evolution of the quantum walk and minimizing the amplitude of other non-desired states."
   ]
  },
  {
   "cell_type": "markdown",
   "id": "abafd810",
   "metadata": {},
   "source": [
    "Grover's algorithm can be a valuable tool in quantum walk implementations by aiding in state preparation, oracle construction, amplitude amplification, and overall improving the efficiency of searching for specific states. "
   ]
  },
  {
   "cell_type": "markdown",
   "id": "48be717d",
   "metadata": {},
   "source": [
    "### 3.1 Coined Quantum Walks"
   ]
  },
  {
   "cell_type": "markdown",
   "id": "c01f48ee",
   "metadata": {},
   "source": [
    "In quantum walk models, two prominent paradigms emerge as pioneers: the Coin-Operator Quantum Walks and the Szegedy Quantum Walks. The approach in both models is different, but they assemble equivalence under specific circumstances. In this module, we will move ahead with Coined Quantum Walks."
   ]
  },
  {
   "cell_type": "markdown",
   "id": "b28d3ae3",
   "metadata": {},
   "source": [
    "An illustrative instance of a coined quantum walk manifests in the traversal of an infinite integer line. The walker's trajectory is dictated by a quantum coin, directing the nuanced dynamics of movement through space."
   ]
  },
  {
   "cell_type": "markdown",
   "id": "a279777c",
   "metadata": {},
   "source": [
    "In the coin-based quantum walk model, there exist two fundamental quantum states accompanied by two distinct operators. \n",
    "1. The initial state signifies the walker's position, aptly named the position state.\n",
    "2. while the second state pertains to the coin state, dictating the walker's directional choices in subsequent steps. Both the coin state and the position state find representation through vectors within the expansive realm of Hilbert space."
   ]
  },
  {
   "cell_type": "markdown",
   "id": "8feda1d4",
   "metadata": {},
   "source": [
    "The model incorporates two pivotal operators: the coin operator and the shift operator. \n",
    "1. Operating on the coin vector during each temporal step, the coin operator gracefully propels the walker into a state of superposition, allowing it to traverse an array of potential paths concurrently. There are different coin operators, but the most common ones are the Hadamard coin and the Grover coin.\n",
    "2. The shift operator acts on the position vector and moves the walker to the next position."
   ]
  },
  {
   "cell_type": "markdown",
   "id": "597d85f6",
   "metadata": {},
   "source": [
    "\\[ H = \\frac{1}{\\sqrt{2}} \\begin{bmatrix} 1 & 1 \\\\ 1 & -1 \\end{bmatrix} \\]"
   ]
  },
  {
   "cell_type": "code",
   "execution_count": null,
   "id": "36c85be2",
   "metadata": {},
   "outputs": [],
   "source": []
  }
 ],
 "metadata": {
  "kernelspec": {
   "display_name": "Python 3 (ipykernel)",
   "language": "python",
   "name": "python3"
  },
  "language_info": {
   "codemirror_mode": {
    "name": "ipython",
    "version": 3
   },
   "file_extension": ".py",
   "mimetype": "text/x-python",
   "name": "python",
   "nbconvert_exporter": "python",
   "pygments_lexer": "ipython3",
   "version": "3.10.6"
  }
 },
 "nbformat": 4,
 "nbformat_minor": 5
}
